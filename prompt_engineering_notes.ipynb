{
 "cells": [
  {
   "cell_type": "markdown",
   "id": "75387829",
   "metadata": {},
   "source": [
    "Prompt Engineering "
   ]
  },
  {
   "cell_type": "code",
   "execution_count": null,
   "id": "27844472",
   "metadata": {},
   "outputs": [
    {
     "name": "stdout",
     "output_type": "stream",
     "text": [
      "Sure! Here are ten product name ideas for a pair of shoes that can fit any foot size:\n",
      "\n",
      "1. **FlexiFit Sneakers**\n",
      "2. **Universal Sole**\n",
      "3. **AdaptAll Shoes**\n",
      "4. **OneSize Wonder**\n",
      "5. **ShapeShift Sneakers**\n",
      "6. **FitFlex Footwear**\n",
      "7. **SizeSync Shoes**\n",
      "8. **Malleable Motion**\n",
      "9. **Dynamic Fit**\n",
      "10. **VersaStep Shoes**\n",
      "\n",
      "Feel free to mix and match or modify these names to better suit your branding!\n"
     ]
    }
   ],
   "source": [
    "# Naive Prompt\n",
    "\n",
    "from openai import OpenAI\n",
    "client = OpenAI()\n",
    "response = client.chat.completions.create(\n",
    "    model = \"gpt-4o-mini\",\n",
    "    messages= [ \n",
    "        {\"role\":\"system\", \"content\":\"You are an AI Assistant\"},\n",
    "        {\"role\":\"user\", \"content\":\"Can I have 10 product names for a pair of shoes that can fit any foot size?\"}\n",
    "    ],\n",
    "    temperature=0.8,\n",
    ")\n",
    "\n",
    "print(response.choices[0].message.content)"
   ]
  },
  {
   "cell_type": "code",
   "execution_count": 5,
   "id": "b6f23602",
   "metadata": {},
   "outputs": [
    {
     "name": "stdout",
     "output_type": "stream",
     "text": [
      "[\n",
      "  \"FlexiFit\",\n",
      "  \"SizeSway\",\n",
      "  \"AdaptStep\",\n",
      "  \"Universal Sole\",\n",
      "  \"FitMates\",\n",
      "  \"OneSize\",\n",
      "  \"ElasticEase\",\n",
      "  \"Freedom Walk\",\n",
      "  \"SculptStep\",\n",
      "  \"EverFit\"\n",
      "]\n"
     ]
    }
   ],
   "source": [
    "# Structured Prompt\n",
    "\n",
    "prompt = \"\"\"\n",
    "## Role\n",
    "You are a creative product naming assistant.\n",
    "\n",
    "## Task\n",
    "Generate 10 unique and catchy product names for a pair of shoes that can fit any foot size.\n",
    "\n",
    "## Instructions\n",
    "- Output must be in valid JSON.\n",
    "- Return only an array of product name strings (no explanations, no numbering).\n",
    "- Names should be short, memorable, and marketable.\n",
    "- Avoid duplicates.\n",
    "\n",
    "## Output\n",
    "[\n",
    "  \"Name1\",\n",
    "  \"Name2\"\n",
    "]\n",
    "\"\"\"\n",
    "\n",
    "response = client.chat.completions.create(\n",
    "    model=\"gpt-4o-mini\",\n",
    "    messages=[\n",
    "        {\"role\": \"system\", \"content\": \"You are an AI assistant.\"},\n",
    "        {\"role\": \"user\", \"content\": prompt}\n",
    "    ],\n",
    "    temperature=0.8,\n",
    ")\n",
    "\n",
    "print(response.choices[0].message.content)\n"
   ]
  },
  {
   "cell_type": "code",
   "execution_count": null,
   "id": "30d2a959",
   "metadata": {},
   "outputs": [],
   "source": []
  },
  {
   "cell_type": "code",
   "execution_count": null,
   "id": "49cce913",
   "metadata": {},
   "outputs": [],
   "source": []
  }
 ],
 "metadata": {
  "kernelspec": {
   "display_name": ".venv",
   "language": "python",
   "name": "python3"
  },
  "language_info": {
   "codemirror_mode": {
    "name": "ipython",
    "version": 3
   },
   "file_extension": ".py",
   "mimetype": "text/x-python",
   "name": "python",
   "nbconvert_exporter": "python",
   "pygments_lexer": "ipython3",
   "version": "3.12.6"
  }
 },
 "nbformat": 4,
 "nbformat_minor": 5
}
